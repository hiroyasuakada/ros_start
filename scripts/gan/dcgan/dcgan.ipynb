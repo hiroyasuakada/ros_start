{
 "cells": [
  {
   "cell_type": "code",
   "execution_count": 4,
   "metadata": {
    "collapsed": false
   },
   "outputs": [],
   "source": [
    "import tensorflow as tf\n",
    "import numpy as np\n"
   ]
  },
  {
   "cell_type": "code",
   "execution_count": 5,
   "metadata": {},
   "outputs": [],
   "source": [
    "latent_dim = 32\n",
    "height = 32\n",
    "width = 32\n",
    "channels = 3\n"
   ]
  },
  {
   "cell_type": "code",
   "execution_count": 6,
   "metadata": {
    "collapsed": false
   },
   "outputs": [
    {
     "name": "stdout",
     "output_type": "stream",
     "text": [
      "_________________________________________________________________\nLayer (type)                 Output Shape              Param #   \n=================================================================\ninput_1 (InputLayer)         (None, 32)                0         \n_________________________________________________________________\ndense (Dense)                (None, 32768)             1081344   \n_________________________________________________________________\nleaky_re_lu (LeakyReLU)      (None, 32768)             0         \n_________________________________________________________________\nreshape (Reshape)            (None, 16, 16, 128)       0         \n_________________________________________________________________\nconv2d (Conv2D)              (None, 16, 16, 256)       524544    \n_________________________________________________________________\nleaky_re_lu_1 (LeakyReLU)    (None, 16, 16, 256)       0         \n_________________________________________________________________\nconv2d_transpose (Conv2DTran (None, 32, 32, 256)       1048832   \n_________________________________________________________________\nleaky_re_lu_2 (LeakyReLU)    (None, 32, 32, 256)       0         \n_________________________________________________________________\nconv2d_1 (Conv2D)            (None, 32, 32, 256)       1638656   \n_________________________________________________________________\nleaky_re_lu_3 (LeakyReLU)    (None, 32, 32, 256)       0         \n_________________________________________________________________\nconv2d_2 (Conv2D)            (None, 32, 32, 256)       1638656   \n_________________________________________________________________\nleaky_re_lu_4 (LeakyReLU)    (None, 32, 32, 256)       0         \n_________________________________________________________________\nconv2d_3 (Conv2D)            (None, 32, 32, 3)         37635     \n=================================================================\nTotal params: 5,969,667\nTrainable params: 5,969,667\nNon-trainable params: 0\n_________________________________________________________________\n"
     ]
    }
   ],
   "source": [
    "# network for generator\n",
    "\n",
    "# creating inputs from noise\n",
    "\n",
    "generator_input = tf.keras.Input(shape=(latent_dim, ))\n",
    "\n",
    "# converting inputs into a feature map of 16 * 16, 128c \n",
    "\n",
    "x = tf.keras.layers.Dense(128 * 16 * 16)(generator_input)\n",
    "x = tf.keras.layers.LeakyReLU()(x)\n",
    "x = tf.keras.layers.Reshape((16, 16, 128))(x)\n",
    "\n",
    "# adding a convolutional layer\n",
    "\n",
    "x = tf.keras.layers.Conv2D(256, 4, padding='same')(x)\n",
    "x = tf.keras.layers.LeakyReLU()(x)\n",
    "\n",
    "# up-sampling as 32 * 32\n",
    "\n",
    "x = tf.keras.layers.Conv2DTranspose(256, 4, strides=2, padding='same')(x)\n",
    "x = tf.keras.layers.LeakyReLU()(x)\n",
    "\n",
    "# adding convolutional layers\n",
    "\n",
    "x = tf.keras.layers.Conv2D(256, 5, padding='same')(x)\n",
    "x = tf.keras.layers.LeakyReLU()(x)\n",
    "x = tf.keras.layers.Conv2D(256, 5, padding='same')(x)\n",
    "x = tf.keras.layers.LeakyReLU()(x)\n",
    "\n",
    "# creating a feature map of 32 * 32, 1c\n",
    "\n",
    "x = tf.keras.layers.Conv2D(channels, 7, activation='tanh', padding='same')(x)\n",
    "\n",
    "# instantiate a generator model\n",
    "# mapping an input of (latent_dim, ) shape into an image of (32, 32, 3)\n",
    "\n",
    "generator = tf.keras.models.Model(generator_input, x)\n",
    "generator.summary()\n"
   ]
  },
  {
   "cell_type": "code",
   "execution_count": 7,
   "metadata": {
    "collapsed": true
   },
   "outputs": [
    {
     "name": "stdout",
     "output_type": "stream",
     "text": [
      "_________________________________________________________________\nLayer (type)                 Output Shape              Param #   \n=================================================================\ninput_2 (InputLayer)         (None, 32, 32, 3)         0         \n_________________________________________________________________\nconv2d_4 (Conv2D)            (None, 30, 30, 128)       3584      \n_________________________________________________________________\nleaky_re_lu_5 (LeakyReLU)    (None, 30, 30, 128)       0         \n_________________________________________________________________\nconv2d_5 (Conv2D)            (None, 14, 14, 128)       262272    \n_________________________________________________________________\nleaky_re_lu_6 (LeakyReLU)    (None, 14, 14, 128)       0         \n_________________________________________________________________\nconv2d_6 (Conv2D)            (None, 6, 6, 128)         262272    \n_________________________________________________________________\nleaky_re_lu_7 (LeakyReLU)    (None, 6, 6, 128)         0         \n_________________________________________________________________\nconv2d_7 (Conv2D)            (None, 2, 2, 128)         262272    \n_________________________________________________________________\nleaky_re_lu_8 (LeakyReLU)    (None, 2, 2, 128)         0         \n_________________________________________________________________\nflatten (Flatten)            (None, 512)               0         \n_________________________________________________________________\ndropout (Dropout)            (None, 512)               0         \n_________________________________________________________________\ndense_1 (Dense)              (None, 1)                 513       \n=================================================================\nTotal params: 790,913\nTrainable params: 790,913\nNon-trainable params: 0\n_________________________________________________________________\n"
     ]
    }
   ],
   "source": [
    "# network for discriminator\n",
    "\n",
    "discriminator_input = tf.keras.layers.Input(shape=(height, width, channels))\n",
    "\n",
    "x = tf.keras.layers.Conv2D(128, 3)(discriminator_input)\n",
    "x = tf.keras.layers.LeakyReLU()(x)\n",
    "x = tf.keras.layers.Conv2D(128, 4, strides=2)(x)\n",
    "x = tf.keras.layers.LeakyReLU()(x)\n",
    "x = tf.keras.layers.Conv2D(128, 4, strides=2)(x)\n",
    "x = tf.keras.layers.LeakyReLU()(x)\n",
    "x = tf.keras.layers.Conv2D(128, 4, strides=2)(x)\n",
    "x = tf.keras.layers.LeakyReLU()(x)\n",
    "x = tf.keras.layers.Flatten()(x)\n",
    "x = tf.keras.layers.Dropout(0.4)(x)  # dropout\n",
    "x = tf.keras.layers.Dense(1, activation='sigmoid')(x)  # layer for classification\n",
    "\n",
    "# instantiate a discriminator model\n",
    "# implement the binary classification for the inputs of (32, 32, 3) configuration\n",
    "\n",
    "discriminator = tf.keras.models.Model(discriminator_input, x)\n",
    "discriminator.summary()\n",
    "\n",
    "# setting an optimizer\n",
    "# using decay of learning rate to stabilize the learning\n",
    "\n",
    "discriminator_optimizer = tf.keras.optimizers.RMSprop(lr=0.0008,\n",
    "                                                   clipvalue=1.0,\n",
    "                                                   decay=1e-8)\n",
    "discriminator.compile(optimizer=discriminator_optimizer,\n",
    "                      loss='binary_crossentropy')\n"
   ]
  },
  {
   "cell_type": "code",
   "execution_count": 8,
   "metadata": {},
   "outputs": [],
   "source": [
    "# adversarial network\n",
    "\n",
    "# disable training when combined with generator\n",
    "\n",
    "discriminator.trainable = False\n",
    "\n",
    "# set DCGAN\n",
    "gan_input = tf.keras.Input(shape=(latent_dim,))  # noise\n",
    "gan_output = discriminator(generator(gan_input))\n",
    "gan = tf.keras.models.Model(gan_input, gan_output)\n",
    "\n",
    "# compile DCGAN\n",
    "gan_optimizer = tf.keras.optimizers.RMSprop(lr=0.0004,\n",
    "                                         clipvalue=1.0,\n",
    "                                         decay=1e-8)\n",
    "gan.compile(optimizer=gan_optimizer,\n",
    "            loss='binary_crossentropy')\n"
   ]
  },
  {
   "cell_type": "code",
   "execution_count": 26,
   "metadata": {},
   "outputs": [
    {
     "name": "stdout",
     "output_type": "stream",
     "text": [
      "WARNING:tensorflow:Discrepancy between trainable weights and collected trainable weights, did you set `model.trainable` without calling `model.compile` after ?\n"
     ]
    },
    {
     "name": "stdout",
     "output_type": "stream",
     "text": [
      "discriminator loss at step 0: 0.6914457082748413\nadversarial loss at step 0: 0.6591678857803345\n"
     ]
    },
    {
     "ename": "KeyboardInterrupt",
     "evalue": "",
     "traceback": [
      "\u001b[1;31m---------------------------------------------------------------------------\u001b[0m",
      "\u001b[1;31mKeyboardInterrupt\u001b[0m                         Traceback (most recent call last)",
      "\u001b[1;32m<ipython-input-26-31ecbe411bab>\u001b[0m in \u001b[0;36m<module>\u001b[1;34m\u001b[0m\n\u001b[0;32m     49\u001b[0m     \u001b[1;31m# training GAN model\u001b[0m\u001b[1;33m\u001b[0m\u001b[1;33m\u001b[0m\u001b[1;33m\u001b[0m\u001b[0m\n\u001b[0;32m     50\u001b[0m     \u001b[1;31m# (weight of discriminator is fixed)\u001b[0m\u001b[1;33m\u001b[0m\u001b[1;33m\u001b[0m\u001b[1;33m\u001b[0m\u001b[0m\n\u001b[1;32m---> 51\u001b[1;33m     \u001b[0ma_loss\u001b[0m \u001b[1;33m=\u001b[0m \u001b[0mgan\u001b[0m\u001b[1;33m.\u001b[0m\u001b[0mtrain_on_batch\u001b[0m\u001b[1;33m(\u001b[0m\u001b[0mrandom_latent_vectors\u001b[0m\u001b[1;33m,\u001b[0m \u001b[0mmisleading_targets\u001b[0m\u001b[1;33m)\u001b[0m\u001b[1;33m\u001b[0m\u001b[1;33m\u001b[0m\u001b[0m\n\u001b[0m\u001b[0;32m     52\u001b[0m \u001b[1;33m\u001b[0m\u001b[0m\n\u001b[0;32m     53\u001b[0m     \u001b[0mstart\u001b[0m \u001b[1;33m+=\u001b[0m \u001b[0mbatch_size\u001b[0m\u001b[1;33m\u001b[0m\u001b[1;33m\u001b[0m\u001b[0m\n",
      "\u001b[1;32m~\\Anaconda3\\envs\\research\\lib\\site-packages\\tensorflow\\python\\keras\\engine\\training.py\u001b[0m in \u001b[0;36mtrain_on_batch\u001b[1;34m(self, x, y, sample_weight, class_weight, reset_metrics)\u001b[0m\n\u001b[0;32m   1173\u001b[0m       \u001b[0mself\u001b[0m\u001b[1;33m.\u001b[0m\u001b[0m_update_sample_weight_modes\u001b[0m\u001b[1;33m(\u001b[0m\u001b[0msample_weights\u001b[0m\u001b[1;33m=\u001b[0m\u001b[0msample_weights\u001b[0m\u001b[1;33m)\u001b[0m\u001b[1;33m\u001b[0m\u001b[1;33m\u001b[0m\u001b[0m\n\u001b[0;32m   1174\u001b[0m       \u001b[0mself\u001b[0m\u001b[1;33m.\u001b[0m\u001b[0m_make_train_function\u001b[0m\u001b[1;33m(\u001b[0m\u001b[1;33m)\u001b[0m\u001b[1;33m\u001b[0m\u001b[1;33m\u001b[0m\u001b[0m\n\u001b[1;32m-> 1175\u001b[1;33m       \u001b[0moutputs\u001b[0m \u001b[1;33m=\u001b[0m \u001b[0mself\u001b[0m\u001b[1;33m.\u001b[0m\u001b[0mtrain_function\u001b[0m\u001b[1;33m(\u001b[0m\u001b[0mins\u001b[0m\u001b[1;33m)\u001b[0m  \u001b[1;31m# pylint: disable=not-callable\u001b[0m\u001b[1;33m\u001b[0m\u001b[1;33m\u001b[0m\u001b[0m\n\u001b[0m\u001b[0;32m   1176\u001b[0m \u001b[1;33m\u001b[0m\u001b[0m\n\u001b[0;32m   1177\u001b[0m     \u001b[1;32mif\u001b[0m \u001b[0mreset_metrics\u001b[0m\u001b[1;33m:\u001b[0m\u001b[1;33m\u001b[0m\u001b[1;33m\u001b[0m\u001b[0m\n",
      "\u001b[1;32m~\\Anaconda3\\envs\\research\\lib\\site-packages\\tensorflow\\python\\keras\\backend.py\u001b[0m in \u001b[0;36m__call__\u001b[1;34m(self, inputs)\u001b[0m\n\u001b[0;32m   3290\u001b[0m \u001b[1;33m\u001b[0m\u001b[0m\n\u001b[0;32m   3291\u001b[0m     fetched = self._callable_fn(*array_vals,\n\u001b[1;32m-> 3292\u001b[1;33m                                 run_metadata=self.run_metadata)\n\u001b[0m\u001b[0;32m   3293\u001b[0m     \u001b[0mself\u001b[0m\u001b[1;33m.\u001b[0m\u001b[0m_call_fetch_callbacks\u001b[0m\u001b[1;33m(\u001b[0m\u001b[0mfetched\u001b[0m\u001b[1;33m[\u001b[0m\u001b[1;33m-\u001b[0m\u001b[0mlen\u001b[0m\u001b[1;33m(\u001b[0m\u001b[0mself\u001b[0m\u001b[1;33m.\u001b[0m\u001b[0m_fetches\u001b[0m\u001b[1;33m)\u001b[0m\u001b[1;33m:\u001b[0m\u001b[1;33m]\u001b[0m\u001b[1;33m)\u001b[0m\u001b[1;33m\u001b[0m\u001b[1;33m\u001b[0m\u001b[0m\n\u001b[0;32m   3294\u001b[0m     output_structure = nest.pack_sequence_as(\n",
      "\u001b[1;32m~\\Anaconda3\\envs\\research\\lib\\site-packages\\tensorflow\\python\\client\\session.py\u001b[0m in \u001b[0;36m__call__\u001b[1;34m(self, *args, **kwargs)\u001b[0m\n\u001b[0;32m   1456\u001b[0m         ret = tf_session.TF_SessionRunCallable(self._session._session,\n\u001b[0;32m   1457\u001b[0m                                                \u001b[0mself\u001b[0m\u001b[1;33m.\u001b[0m\u001b[0m_handle\u001b[0m\u001b[1;33m,\u001b[0m \u001b[0margs\u001b[0m\u001b[1;33m,\u001b[0m\u001b[1;33m\u001b[0m\u001b[1;33m\u001b[0m\u001b[0m\n\u001b[1;32m-> 1458\u001b[1;33m                                                run_metadata_ptr)\n\u001b[0m\u001b[0;32m   1459\u001b[0m         \u001b[1;32mif\u001b[0m \u001b[0mrun_metadata\u001b[0m\u001b[1;33m:\u001b[0m\u001b[1;33m\u001b[0m\u001b[1;33m\u001b[0m\u001b[0m\n\u001b[0;32m   1460\u001b[0m           \u001b[0mproto_data\u001b[0m \u001b[1;33m=\u001b[0m \u001b[0mtf_session\u001b[0m\u001b[1;33m.\u001b[0m\u001b[0mTF_GetBuffer\u001b[0m\u001b[1;33m(\u001b[0m\u001b[0mrun_metadata_ptr\u001b[0m\u001b[1;33m)\u001b[0m\u001b[1;33m\u001b[0m\u001b[1;33m\u001b[0m\u001b[0m\n",
      "\u001b[1;31mKeyboardInterrupt\u001b[0m: "
     ],
     "output_type": "error"
    }
   ],
   "source": [
    "# implementing the code for training of GAN\n",
    "\n",
    "import os\n",
    "\n",
    "# downloading CIFAR10\n",
    "(x_train, y_train), (_, _) = tf.keras.datasets.cifar10.load_data()\n",
    "\n",
    "# choosing class 6 (flog)\n",
    "x_train = x_train[y_train.flatten() == 6]\n",
    "\n",
    "# normalization of data\n",
    "x_train = x_train.reshape(\n",
    "    (x_train.shape[0], ) + (height, width, channels)).astype('float32') / 255.\n",
    "\n",
    "iterations = 10000\n",
    "batch_size = 20\n",
    "\n",
    "# designating a folder for generated images\n",
    "# save_dir = '/C:/Users/hiro/AnacondaProjects/research/'\n",
    "\n",
    "start = 0\n",
    "for step in range(iterations):  # starting learning loops \n",
    "    # extracting points at random from a latent space \n",
    "    random_latent_vectors = np.random.normal(size=(batch_size, latent_dim))\n",
    "    \n",
    "    # decoding to fake images\n",
    "    generated_images = generator.predict(random_latent_vectors)\n",
    "    \n",
    "    # mixing all data including reals and fakes\n",
    "    stop = start + batch_size\n",
    "    real_images = x_train[start: stop]\n",
    "    combined_images = np.concatenate([generated_images, real_images])\n",
    "    \n",
    "    # creating labels to distinguish reals and fakes / real = 0, fake = 1\n",
    "    labels = np.concatenate([np.ones((batch_size, 1)), np.zeros((batch_size, 1))])\n",
    "    \n",
    "    # adding some noise to labels\n",
    "    labels += 0.05 * np.random.random(labels.shape)\n",
    "    \n",
    "    # training discriminator model\n",
    "    d_loss = discriminator.train_on_batch(combined_images, labels)\n",
    "    \n",
    "    # extracting points at random form a latent space\n",
    "    random_latent_vectors = np.random.normal(size=(batch_size, latent_dim))\n",
    "    \n",
    "    # creating labels representing all reals\n",
    "    misleading_targets = np.zeros((batch_size, 1))\n",
    "    \n",
    "    # training GAN model\n",
    "    # (weight of discriminator is fixed)\n",
    "    a_loss = gan.train_on_batch(random_latent_vectors, misleading_targets)\n",
    "    \n",
    "    start += batch_size\n",
    "    if start > len(x_train) - batch_size:\n",
    "        start = 0\n",
    "    \n",
    "    if step % 100 == 0:  ## saving and plotting at every 10 steps\n",
    "        # gan.save_weights('DCGAN.h5')\n",
    "    \n",
    "        # outputting the performances\n",
    "        print('discriminator loss at step {}: {}'.format(step, d_loss))\n",
    "        print('adversarial loss at step {}: {}'.format(step, a_loss))\n",
    "    \n",
    "        # # saving one generated image\n",
    "        # img = image.array_to_img(generated_images[0] * 255., scale=False)\n",
    "        # img.save(os.path.join(save_dir, 'generated_frog' + str(step) + '.png'))\n",
    "        # \n",
    "        # # saving one real image for comparison\n",
    "        # img = tf.keras.preprocessing.image.array_to_img(real_images[0] * 255., scale=False)\n",
    "        # img.save(os.path.join(save_dir, 'real_frog' + str(step) + '.png'))        \n"
   ]
  },
  {
   "cell_type": "code",
   "execution_count": 5,
   "metadata": {},
   "outputs": [],
   "source": []
  },
  {
   "cell_type": "code",
   "execution_count": 5,
   "metadata": {},
   "outputs": [],
   "source": []
  },
  {
   "cell_type": "code",
   "execution_count": 5,
   "metadata": {},
   "outputs": [],
   "source": []
  },
  {
   "cell_type": "code",
   "execution_count": 5,
   "metadata": {},
   "outputs": [],
   "source": []
  },
  {
   "cell_type": "code",
   "execution_count": 5,
   "metadata": {},
   "outputs": [],
   "source": []
  },
  {
   "cell_type": "code",
   "execution_count": 5,
   "metadata": {},
   "outputs": [],
   "source": []
  },
  {
   "cell_type": "code",
   "execution_count": 5,
   "metadata": {},
   "outputs": [],
   "source": []
  },
  {
   "cell_type": "code",
   "execution_count": null,
   "metadata": {},
   "outputs": [],
   "source": []
  }
 ],
 "metadata": {
  "kernelspec": {
   "display_name": "Python 2",
   "language": "python",
   "name": "python2"
  },
  "language_info": {
   "codemirror_mode": {
    "name": "ipython",
    "version": 2
   },
   "file_extension": ".py",
   "mimetype": "text/x-python",
   "name": "python",
   "nbconvert_exporter": "python",
   "pygments_lexer": "ipython2",
   "version": "2.7.6"
  }
 },
 "nbformat": 4,
 "nbformat_minor": 0
}
